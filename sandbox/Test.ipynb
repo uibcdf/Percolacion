{
 "cells": [
  {
   "cell_type": "code",
   "execution_count": 1,
   "id": "b2e93083-4e34-414a-8b5e-c16ec8937d55",
   "metadata": {},
   "outputs": [],
   "source": [
    "import percolation as pc"
   ]
  },
  {
   "cell_type": "code",
   "execution_count": 2,
   "id": "d9283c04-ab2b-4812-8761-ce043d63eb20",
   "metadata": {},
   "outputs": [
    {
     "data": {
      "text/plain": [
       "'hola!'"
      ]
     },
     "execution_count": 2,
     "metadata": {},
     "output_type": "execute_result"
    }
   ],
   "source": [
    "pc.hola()"
   ]
  },
  {
   "cell_type": "code",
   "execution_count": null,
   "id": "2dc24b7a-afa5-4caf-99ae-887a658115a2",
   "metadata": {},
   "outputs": [],
   "source": [
    "help(pc.creacion_sistema)"
   ]
  },
  {
   "cell_type": "code",
   "execution_count": null,
   "id": "19b8d4cf-caf1-49ba-9f43-74f25e58833c",
   "metadata": {},
   "outputs": [],
   "source": [
    "sistema = pc.creacion_sistema(100, 200, 0.4)"
   ]
  },
  {
   "cell_type": "code",
   "execution_count": null,
   "id": "1163b575-cb92-4549-8bb7-644cbc11cfde",
   "metadata": {},
   "outputs": [],
   "source": [
    "sistema"
   ]
  },
  {
   "cell_type": "code",
   "execution_count": null,
   "id": "cd9afe6c-89e8-4181-8762-893bb94685a8",
   "metadata": {},
   "outputs": [],
   "source": [
    "pc.representacion_grafica(sistema)"
   ]
  },
  {
   "cell_type": "code",
   "execution_count": null,
   "id": "9a450276-a1ba-4ec8-8a6a-03e93f9e06b2",
   "metadata": {},
   "outputs": [],
   "source": [
    "pc.infeccion_inicial(sistema)"
   ]
  },
  {
   "cell_type": "code",
   "execution_count": null,
   "id": "5c915d30-ac0b-4dc2-8461-6437e98eaa18",
   "metadata": {},
   "outputs": [],
   "source": [
    "pc.representacion_grafica(sistema)"
   ]
  },
  {
   "cell_type": "code",
   "execution_count": null,
   "id": "3021e05b-247e-461f-b829-22d9936aa5f8",
   "metadata": {},
   "outputs": [],
   "source": [
    "pc.propagacion(sistema)"
   ]
  },
  {
   "cell_type": "code",
   "execution_count": null,
   "id": "216699f3-f4d5-4126-8c8b-1491b7d64cd5",
   "metadata": {},
   "outputs": [],
   "source": [
    "pc.representacion_grafica(sistema)"
   ]
  },
  {
   "cell_type": "code",
   "execution_count": null,
   "id": "03b69485-93b6-43eb-90e5-36d0592df2ae",
   "metadata": {},
   "outputs": [],
   "source": [
    "pc.porcentaje_infectado(sistema)"
   ]
  },
  {
   "cell_type": "code",
   "execution_count": null,
   "id": "4c85cd52-466b-47e4-b9fa-54952cd747fe",
   "metadata": {},
   "outputs": [],
   "source": [
    "help(pc.porcentaje_infectado)"
   ]
  },
  {
   "cell_type": "code",
   "execution_count": null,
   "id": "a5fafc2f-272c-495e-b236-786a95d3134e",
   "metadata": {},
   "outputs": [],
   "source": []
  }
 ],
 "metadata": {
  "kernelspec": {
   "display_name": "Python 3 (ipykernel)",
   "language": "python",
   "name": "python3"
  },
  "language_info": {
   "codemirror_mode": {
    "name": "ipython",
    "version": 3
   },
   "file_extension": ".py",
   "mimetype": "text/x-python",
   "name": "python",
   "nbconvert_exporter": "python",
   "pygments_lexer": "ipython3",
   "version": "3.10.11"
  }
 },
 "nbformat": 4,
 "nbformat_minor": 5
}
