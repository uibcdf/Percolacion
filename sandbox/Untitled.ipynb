{
 "cells": [
  {
   "cell_type": "code",
   "execution_count": 1,
   "id": "c4e37460-3ab0-46d3-82a3-baf59da4f804",
   "metadata": {},
   "outputs": [],
   "source": [
    "%load_ext autoreload\n",
    "%autoreload 2"
   ]
  },
  {
   "cell_type": "code",
   "execution_count": 2,
   "id": "b2e93083-4e34-414a-8b5e-c16ec8937d55",
   "metadata": {},
   "outputs": [],
   "source": [
    "import percolation as pc"
   ]
  },
  {
   "cell_type": "code",
   "execution_count": 3,
   "id": "793a5959-90ae-42ac-84b8-8b635299014b",
   "metadata": {},
   "outputs": [
    {
     "name": "stdout",
     "output_type": "stream",
     "text": [
      "Ciao!\n"
     ]
    }
   ],
   "source": [
    "pc.hola()"
   ]
  },
  {
   "cell_type": "code",
   "execution_count": 5,
   "id": "4e9e4d88-d403-4d5a-8f43-bc1ef15e55e2",
   "metadata": {},
   "outputs": [
    {
     "name": "stdout",
     "output_type": "stream",
     "text": [
      "Hola!\n"
     ]
    }
   ],
   "source": [
    "pc.hola()"
   ]
  },
  {
   "cell_type": "code",
   "execution_count": null,
   "id": "19b8d4cf-caf1-49ba-9f43-74f25e58833c",
   "metadata": {},
   "outputs": [],
   "source": []
  }
 ],
 "metadata": {
  "kernelspec": {
   "display_name": "Python 3 (ipykernel)",
   "language": "python",
   "name": "python3"
  },
  "language_info": {
   "codemirror_mode": {
    "name": "ipython",
    "version": 3
   },
   "file_extension": ".py",
   "mimetype": "text/x-python",
   "name": "python",
   "nbconvert_exporter": "python",
   "pygments_lexer": "ipython3",
   "version": "3.10.11"
  }
 },
 "nbformat": 4,
 "nbformat_minor": 5
}
